{
 "cells": [
  {
   "attachments": {},
   "cell_type": "markdown",
   "metadata": {},
   "source": [
    "1. a = 235 b= 782 swap the values. output: a = 782 b= 235\n",
    "2. a = \"mouse\" b=\"mat\" swap the values. output: a = mat b = mouse\n",
    "3. name = Sravanth capatialze all the name output : SRAVANTH\n",
    "4. a = \"hello \" remove the whiteSpace output: hello\n",
    "5. A person crosses a 600 m long street in 5 minutes. What is his speed in km per hour?\n",
    "6. price = 100, mangoes= 10, location= Ongole. output : I bought 10 mangoes for 100 rupees in ongole\n",
    "7. sentence = \"Sravanth met the \"MLA\" in ongole\"\n",
    "8. typecast a = 10.0  output: a = 10\n",
    "9. A father said to his son, \"I was 24 years old when you were born\". If the father's age is 38 years now, the son's age five years back was:"
   ]
  },
  {
   "cell_type": "code",
   "execution_count": 10,
   "metadata": {},
   "outputs": [
    {
     "name": "stdout",
     "output_type": "stream",
     "text": [
      "after swaping a=782\n",
      "after swaping a=235\n"
     ]
    }
   ],
   "source": [
    "#1. a = 235 b= 782 swap the values. output: a = 782 b= 235\n",
    "a=235\n",
    "b=782\n",
    "x=a\n",
    "a=b\n",
    "b=x\n",
    "print(\"after swaping a=\"+str(format(a)))\n",
    "print(\"after swaping a=\"+str(format(b)))\n"
   ]
  },
  {
   "cell_type": "code",
   "execution_count": 1,
   "metadata": {},
   "outputs": [
    {
     "name": "stdout",
     "output_type": "stream",
     "text": [
      "after swaping a=mat\n",
      "after swaping b=mouse\n"
     ]
    }
   ],
   "source": [
    "#2. a = \"mouse\" b=\"mat\" swap the values. output: a = mat b = mouse\n",
    "a=\"mouse\"\n",
    "b=\"mat\"\n",
    "x=a\n",
    "a=b\n",
    "b=x\n",
    "print(\"after swaping a=\"+format(a))\n",
    "print(\"after swaping b=\"+format(b))"
   ]
  },
  {
   "cell_type": "code",
   "execution_count": 11,
   "metadata": {},
   "outputs": [
    {
     "name": "stdout",
     "output_type": "stream",
     "text": [
      "SRAVANTH\n"
     ]
    }
   ],
   "source": [
    "#3. name = Sravanth capatialze all the name output : SRAVANTH\n",
    "name=\"sravanth\"\n",
    "print(name.upper())"
   ]
  },
  {
   "cell_type": "code",
   "execution_count": 15,
   "metadata": {},
   "outputs": [
    {
     "name": "stdout",
     "output_type": "stream",
     "text": [
      "hello\n",
      "hello\n"
     ]
    }
   ],
   "source": [
    "#4. a = \"hello \" remove the whiteSpace output: hello\n",
    "a=\"hello \"\n",
    "print(a.strip())\n",
    "b='hello  '\n",
    "print(b.strip())"
   ]
  },
  {
   "cell_type": "code",
   "execution_count": 16,
   "metadata": {},
   "outputs": [
    {
     "name": "stdout",
     "output_type": "stream",
     "text": [
      "120.0\n"
     ]
    }
   ],
   "source": [
    "#5. A person crosses a 600 m long street in 5 minutes. What is his speed in km per hour?\n",
    "distance=600\n",
    "time=5\n",
    "speed=distance/time\n",
    "print(speed)"
   ]
  },
  {
   "cell_type": "code",
   "execution_count": 17,
   "metadata": {},
   "outputs": [
    {
     "name": "stdout",
     "output_type": "stream",
     "text": [
      "I bought 10 mangoes for 100 rupees in ongole\n"
     ]
    }
   ],
   "source": [
    "#6. price = 100, mangoes= 10, location= Ongole. output : I bought 10 mangoes for 100 rupees in ongole\n",
    "price=100\n",
    "mangoes=10\n",
    "location=\"ongole\"\n",
    "print(\"I bought\",str(mangoes),\"mangoes\",\"for\",str(price),\"rupees in\",location)\n"
   ]
  },
  {
   "cell_type": "code",
   "execution_count": 20,
   "metadata": {},
   "outputs": [
    {
     "name": "stdout",
     "output_type": "stream",
     "text": [
      "\"sravanth met the \"MLA\" in ongole\"\n"
     ]
    }
   ],
   "source": [
    "#7. sentence = \"Sravanth met the \"MLA\" in ongole\"\n",
    "print(\"\\\"sravanth met the \\\"MLA\\\" in ongole\\\"\")"
   ]
  },
  {
   "cell_type": "code",
   "execution_count": 28,
   "metadata": {},
   "outputs": [
    {
     "name": "stdout",
     "output_type": "stream",
     "text": [
      "<class 'float'>\n",
      "after converting float to integer a = 10\n"
     ]
    }
   ],
   "source": [
    "#8. typecast a = 10.0  output: a = 10\n",
    "a=10.0\n",
    "print(type(a))\n",
    "a=int(a)\n",
    "print(\"after converting float to integer a = \"+str(a))"
   ]
  },
  {
   "cell_type": "code",
   "execution_count": 35,
   "metadata": {},
   "outputs": [
    {
     "name": "stdout",
     "output_type": "stream",
     "text": [
      "son's age 5 years back was 9\n"
     ]
    }
   ],
   "source": [
    "#9. A father said to his son, \"I was 24 years old when you were born\". If the father's age is 38 years now, the son's age five years back was:\n",
    "a=24\n",
    "b=38\n",
    "years=5\n",
    "x=b-a\n",
    "son_age_at_present=x\n",
    "y=son_age_at_present-years\n",
    "print(\"son's age 5 years back was\",y)\n",
    "\n"
   ]
  }
 ],
 "metadata": {
  "kernelspec": {
   "display_name": "Python 3",
   "language": "python",
   "name": "python3"
  },
  "language_info": {
   "codemirror_mode": {
    "name": "ipython",
    "version": 3
   },
   "file_extension": ".py",
   "mimetype": "text/x-python",
   "name": "python",
   "nbconvert_exporter": "python",
   "pygments_lexer": "ipython3",
   "version": "3.9.8"
  },
  "orig_nbformat": 4
 },
 "nbformat": 4,
 "nbformat_minor": 2
}
