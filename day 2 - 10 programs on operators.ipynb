{
 "cells": [
  {
   "attachments": {},
   "cell_type": "markdown",
   "metadata": {},
   "source": [
    "### day 2 - 10 programs on the basics\n",
    "\n"
   ]
  },
  {
   "cell_type": "code",
   "execution_count": 80,
   "metadata": {},
   "outputs": [
    {
     "name": "stdout",
     "output_type": "stream",
     "text": [
      "10\n"
     ]
    }
   ],
   "source": [
    "#### 1. assign same value to two variables and print\n",
    "#### what is the output of the following code\n",
    "a = b= 10\n",
    "print(b)"
   ]
  },
  {
   "cell_type": "code",
   "execution_count": 11,
   "metadata": {},
   "outputs": [
    {
     "name": "stdout",
     "output_type": "stream",
     "text": [
      "10\n",
      "output=10\n"
     ]
    }
   ],
   "source": [
    "a=b=10\n",
    "print(b)\n",
    "\n",
    "print(\"output=\"+str(b))"
   ]
  },
  {
   "cell_type": "code",
   "execution_count": null,
   "metadata": {},
   "outputs": [],
   "source": [
    "# 12. create a list that has 'daddy','mummy','jak','sravs','jaya'\n",
    "# only print sravs\n",
    "\n",
    "family = []\n"
   ]
  },
  {
   "cell_type": "code",
   "execution_count": null,
   "metadata": {},
   "outputs": [],
   "source": [
    "# if a=b=c=d=300 what is the value of b\n",
    "# if school=college=family=['jak','sravs','jaya'] what is the output of family\n",
    "\n"
   ]
  },
  {
   "cell_type": "code",
   "execution_count": 15,
   "metadata": {},
   "outputs": [
    {
     "name": "stdout",
     "output_type": "stream",
     "text": [
      "srav100\n"
     ]
    }
   ],
   "source": [
    "# given roll number = 100 and name = srav as input. output= srav100\n",
    "rollnumber=100\n",
    "name=input()\n",
    "output=name+str(rollnumber)\n",
    "print(output)\n"
   ]
  },
  {
   "cell_type": "code",
   "execution_count": 17,
   "metadata": {},
   "outputs": [
    {
     "name": "stdout",
     "output_type": "stream",
     "text": [
      "total amount earned by the three=37.5\n"
     ]
    }
   ],
   "source": [
    "# sravanth,jayanth,jak went for work. sravanth earned 12.6 rupees, jayanth earned 13 rupees, \n",
    "# jak earned 12 rupees. what is the total amount of money earned by the three\n",
    "sravanth=12.5\n",
    "jayanth=13\n",
    "jak=12\n",
    "print(\"total amount earned by the three=\"+str(sravanth+jayanth+jak))\n"
   ]
  },
  {
   "cell_type": "code",
   "execution_count": 19,
   "metadata": {},
   "outputs": [
    {
     "name": "stdout",
     "output_type": "stream",
     "text": [
      "profit=1870\n"
     ]
    }
   ],
   "source": [
    "# jack bought a diamond for 130 rupees and sold it for 2000 rupess what is the profit he got\n",
    "jak=130\n",
    "sold=2000\n",
    "print(\"profit=\"+str(sold-jak))"
   ]
  },
  {
   "cell_type": "code",
   "execution_count": 76,
   "metadata": {},
   "outputs": [
    {
     "name": "stdout",
     "output_type": "stream",
     "text": [
      "sravanth has cake\n"
     ]
    }
   ],
   "source": [
    "# sravanth bought icecream, jayanth bought cake, both swapped them and \n",
    "# sravanth took cake and jayanth took icecream \n",
    "# what does sravanth has\n",
    "sravanth=\"icream\"\n",
    "jayanth=\"cake\"\n",
    "print(\"sravanth has\",sravanth.replace(sravanth,jayanth))"
   ]
  },
  {
   "cell_type": "code",
   "execution_count": 56,
   "metadata": {},
   "outputs": [
    {
     "name": "stdout",
     "output_type": "stream",
     "text": [
      "650.0\n"
     ]
    }
   ],
   "source": [
    "# find the area of triangle height = 130 length = 10\n",
    "height=130\n",
    "length=10\n",
    "area=height*length/2\n",
    "print(area)"
   ]
  },
  {
   "cell_type": "code",
   "execution_count": 59,
   "metadata": {},
   "outputs": [
    {
     "name": "stdout",
     "output_type": "stream",
     "text": [
      "sravanth6\n",
      "jayanth3\n",
      "jak3\n"
     ]
    }
   ],
   "source": [
    "# sravanth = 106\n",
    "# jayanth = 113\n",
    "# jak = 123\n",
    "\n",
    "# divide all with 10 and add the remainder to their name and print\n",
    "\n",
    "\"\"\" example \n",
    "    sravanth = 1246\n",
    "    when 1246 is divided with 10 the remainder is 6 \n",
    "    so the output is sravanth6\n",
    "\"\"\"\n",
    "sravanth=106\n",
    "reminder1=sravanth%10\n",
    "print(\"sravanth\"+str(reminder1))\n",
    "jayanth=113\n",
    "reminder2=jayanth%10\n",
    "print(\"jayanth\"+str(reminder2))\n",
    "jak=123\n",
    "reminder3=jak%10\n",
    "print(\"jak\"+str(reminder3))\n",
    "\n"
   ]
  },
  {
   "cell_type": "code",
   "execution_count": 2,
   "metadata": {},
   "outputs": [
    {
     "name": "stdout",
     "output_type": "stream",
     "text": [
      "16.0\n",
      "16.0\n"
     ]
    }
   ],
   "source": [
    "# print the square root of 256\n",
    "import math\n",
    "a=256\n",
    "print(math.sqrt(a))\n",
    "\n",
    "# do not use math.sqrt and try solving this \n",
    "print(256**0.5)"
   ]
  },
  {
   "cell_type": "code",
   "execution_count": 79,
   "metadata": {},
   "outputs": [
    {
     "name": "stdout",
     "output_type": "stream",
     "text": [
      "234.57\n",
      "234.57\n"
     ]
    }
   ],
   "source": [
    "# given 234.56789 correct values to two decimal places\n",
    "a=234.56789\n",
    "print(format(a,\".2f\"))\n",
    "print(round(a,2))"
   ]
  },
  {
   "cell_type": "code",
   "execution_count": 71,
   "metadata": {},
   "outputs": [
    {
     "name": "stdout",
     "output_type": "stream",
     "text": [
      "<class 'int'>\n"
     ]
    }
   ],
   "source": [
    "# what is the type of 123\n",
    "a=123\n",
    "print(type(a))"
   ]
  }
 ],
 "metadata": {
  "kernelspec": {
   "display_name": "Python 3",
   "language": "python",
   "name": "python3"
  },
  "language_info": {
   "codemirror_mode": {
    "name": "ipython",
    "version": 3
   },
   "file_extension": ".py",
   "mimetype": "text/x-python",
   "name": "python",
   "nbconvert_exporter": "python",
   "pygments_lexer": "ipython3",
   "version": "3.9.8"
  },
  "orig_nbformat": 4
 },
 "nbformat": 4,
 "nbformat_minor": 2
}
