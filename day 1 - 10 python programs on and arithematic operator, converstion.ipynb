{
 "cells": [
  {
   "attachments": {},
   "cell_type": "markdown",
   "metadata": {},
   "source": [
    "taking input and adding values"
   ]
  },
  {
   "cell_type": "code",
   "execution_count": 2,
   "metadata": {},
   "outputs": [
    {
     "name": "stdout",
     "output_type": "stream",
     "text": [
      "712\n"
     ]
    }
   ],
   "source": [
    "a=int(input())\n",
    "b=int(input())\n",
    "print(a+b)\n"
   ]
  },
  {
   "cell_type": "code",
   "execution_count": 3,
   "metadata": {},
   "outputs": [
    {
     "name": "stdout",
     "output_type": "stream",
     "text": [
      "tsk tjk\n"
     ]
    }
   ],
   "source": [
    "a=input()\n",
    "b=input()\n",
    "print(a+\" \"+b)"
   ]
  },
  {
   "attachments": {},
   "cell_type": "markdown",
   "metadata": {},
   "source": [
    "### beginners problems \n",
    "\n",
    "num1 = 10\n",
    "\n",
    "1. Convert num1 to string\n",
    "2. divide num1 with 5 and print the remainder\n",
    "3. divide num1 with 3 and print the quotient\n",
    "4. given input 3.66655 correct till two decimal places \n",
    "5. print the type of 23.5\n",
    "6. convert 3.56kg to grams\n",
    "7. find the area of rectangle length = 4 breadth = 50 \n",
    "8. daddy has 1000 rupees sravanth took 300, jak took 300, jayanth too 130 how much money does daddy left with\n",
    "9. the price of 1 milk packet is 33 rupees. the price increases by 5 rupees every year. what is the price of the milk packet after 4 years\n",
    "10. a water can contains 10 litres of water, jayanth drank 2 litres of water, jak drank 3 litres of water. print the remaining amount of water in milliletres  "
   ]
  },
  {
   "attachments": {},
   "cell_type": "markdown",
   "metadata": {},
   "source": [
    "##"
   ]
  },
  {
   "cell_type": "code",
   "execution_count": 2,
   "metadata": {},
   "outputs": [
    {
     "name": "stdout",
     "output_type": "stream",
     "text": [
      "10\n"
     ]
    }
   ],
   "source": [
    "num1=10\n",
    "print(str(num1))"
   ]
  },
  {
   "cell_type": "code",
   "execution_count": 16,
   "metadata": {},
   "outputs": [
    {
     "name": "stdout",
     "output_type": "stream",
     "text": [
      "3.67\n",
      "3.67\n"
     ]
    }
   ],
   "source": [
    "#4. given input 3.66655 correct till two decimal places\n",
    "a=3.66655\n",
    "b=format(a,\".2f\")\n",
    "c =round(a,2)\n",
    "print(b)\n",
    "print(c)"
   ]
  },
  {
   "cell_type": "code",
   "execution_count": 4,
   "metadata": {},
   "outputs": [
    {
     "name": "stdout",
     "output_type": "stream",
     "text": [
      "0\n"
     ]
    }
   ],
   "source": [
    "num1=10\n",
    "print(num1%5)"
   ]
  },
  {
   "cell_type": "code",
   "execution_count": 5,
   "metadata": {},
   "outputs": [
    {
     "name": "stdout",
     "output_type": "stream",
     "text": [
      "3.3333333333333335\n"
     ]
    }
   ],
   "source": [
    "num1=10\n",
    "print(num1/3)"
   ]
  },
  {
   "cell_type": "code",
   "execution_count": 17,
   "metadata": {},
   "outputs": [
    {
     "name": "stdout",
     "output_type": "stream",
     "text": [
      "<class 'float'>\n"
     ]
    }
   ],
   "source": [
    "#5. print the type of 23.5\n",
    "a=23.5\n",
    "print(type(a))"
   ]
  },
  {
   "cell_type": "code",
   "execution_count": 21,
   "metadata": {},
   "outputs": [
    {
     "name": "stdout",
     "output_type": "stream",
     "text": [
      "3560.0\n",
      "3.56kg in grams = 3560.0\n"
     ]
    }
   ],
   "source": [
    "#6. convert 3.56kg to grams\n",
    "a=3.56\n",
    "b=1000\n",
    "print(a*b)\n",
    "print(\"3.56kg in grams =\",a*b)"
   ]
  },
  {
   "cell_type": "code",
   "execution_count": 20,
   "metadata": {},
   "outputs": [
    {
     "name": "stdout",
     "output_type": "stream",
     "text": [
      "money with sravanth = 55\n"
     ]
    }
   ],
   "source": [
    "# sravanth has 55 rupees\n",
    "# money with sravanth = 55\n",
    "sravanth =55\n",
    "print(\"money with sravanth =\",sravanth)\n"
   ]
  },
  {
   "cell_type": "code",
   "execution_count": 22,
   "metadata": {},
   "outputs": [
    {
     "name": "stdout",
     "output_type": "stream",
     "text": [
      "area of rectangel = 200\n"
     ]
    }
   ],
   "source": [
    "#7. find the area of rectangle length = 4 breadth = 50 \n",
    "l=4\n",
    "b=50\n",
    "area=l*b\n",
    "print(\"area of rectangel =\",area)\n"
   ]
  },
  {
   "cell_type": "code",
   "execution_count": 23,
   "metadata": {},
   "outputs": [
    {
     "name": "stdout",
     "output_type": "stream",
     "text": [
      "270\n"
     ]
    }
   ],
   "source": [
    "#8. daddy has 1000 rupees sravanth took 300, jak took 300, jayanth too 130 how much money does daddy left with\n",
    "daddy=1000\n",
    "jak=300\n",
    "sravanth=300\n",
    "jayanth=130\n",
    "print(daddy-jak-sravanth-jayanth)\n"
   ]
  },
  {
   "cell_type": "code",
   "execution_count": 25,
   "metadata": {},
   "outputs": [
    {
     "name": "stdout",
     "output_type": "stream",
     "text": [
      "53\n"
     ]
    }
   ],
   "source": [
    "#9. the price of 1 milk packet is 33 rupees. the price increases by 5 rupees every year. what is the price of the milk packet after 4 years\n",
    "milk=33\n",
    "everyyear=5\n",
    "years=4\n",
    "c=everyyear*years\n",
    "d=milk+c\n",
    "print(d)"
   ]
  },
  {
   "cell_type": "code",
   "execution_count": 40,
   "metadata": {},
   "outputs": [
    {
     "name": "stdout",
     "output_type": "stream",
     "text": [
      "5\n",
      "remaining water in ml= 5000 ml\n",
      "remaining water in ml= 5000ml\n"
     ]
    }
   ],
   "source": [
    "#10. a water can contain 10 litres of water, jayanth drank 2 litres of water, jak drank 3 litres of water. print the remaining amount of water in milliletres  \n",
    "water=10\n",
    "jayanth=2\n",
    "jak=3\n",
    "remaining=water-jayanth-jak\n",
    "print(remaining)\n",
    "print(\"remaining water in ml=\",remaining*1000,\"ml\")\n",
    "\n",
    "\n",
    "ml=remaining*1000 \n",
    "print(\"remaining water in ml=\",str(ml)+\"ml\")"
   ]
  },
  {
   "cell_type": "code",
   "execution_count": 33,
   "metadata": {},
   "outputs": [
    {
     "name": "stdout",
     "output_type": "stream",
     "text": [
      "french beard\n"
     ]
    }
   ],
   "source": [
    "a = 'french'\n",
    "b = 'beard'\n",
    "print(a+\" \"+b)"
   ]
  }
 ],
 "metadata": {
  "kernelspec": {
   "display_name": "Python 3",
   "language": "python",
   "name": "python3"
  },
  "language_info": {
   "codemirror_mode": {
    "name": "ipython",
    "version": 3
   },
   "file_extension": ".py",
   "mimetype": "text/x-python",
   "name": "python",
   "nbconvert_exporter": "python",
   "pygments_lexer": "ipython3",
   "version": "3.9.8"
  },
  "orig_nbformat": 4
 },
 "nbformat": 4,
 "nbformat_minor": 2
}
