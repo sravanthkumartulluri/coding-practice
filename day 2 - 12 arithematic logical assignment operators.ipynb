{
 "cells": [
  {
   "attachments": {},
   "cell_type": "markdown",
   "metadata": {},
   "source": [
    "#### Questions on Arithematci logical and assignemnt operators \n",
    "\n",
    "1. sravanth has 10 rupees note jayanth has 20 rupees note, give 20 rupees note to sravanth and give 10 rupeees note to jayanth\n",
    "\n",
    "2. convert 23kilometres to miles\n",
    "4. simple interest = 391999.99, principal = 700000 find the total amount.\n",
    "5. given a=10 b=20 check  a<b, a>b\n",
    "6. given a=100 b=100 check  a==b\n",
    "7. given a=200 b=500 check  a>=b\n",
    "8. a = true b= true implement logical operators \n",
    "9. a = 10 b= 20 implement assignment operators\n",
    "10. display calendar for october 1998\n",
    "11. a=-20 check if it is positive or negative\n",
    "3. jak took 7 lakhs of loan for 11.2% interest rate and duration of 5 years find the simple interest. \n",
    "12. a= 10.4 convet a to integer\n"
   ]
  },
  {
   "cell_type": "code",
   "execution_count": 17,
   "metadata": {},
   "outputs": [
    {
     "ename": "AttributeError",
     "evalue": "'int' object has no attribute 'replace'",
     "output_type": "error",
     "traceback": [
      "\u001b[1;31m---------------------------------------------------------------------------\u001b[0m",
      "\u001b[1;31mAttributeError\u001b[0m                            Traceback (most recent call last)",
      "\u001b[1;32md:\\Sravanth\\Coding\\practice\\day 2 - 12 arithematic logical assignment operators.ipynb Cell 2\u001b[0m in \u001b[0;36m4\n\u001b[0;32m      <a href='vscode-notebook-cell:/d%3A/Sravanth/Coding/practice/day%202%20-%2012%20arithematic%20logical%20assignment%20operators.ipynb#W1sZmlsZQ%3D%3D?line=1'>2</a>\u001b[0m sravanth\u001b[39m=\u001b[39m\u001b[39m10\u001b[39m\n\u001b[0;32m      <a href='vscode-notebook-cell:/d%3A/Sravanth/Coding/practice/day%202%20-%2012%20arithematic%20logical%20assignment%20operators.ipynb#W1sZmlsZQ%3D%3D?line=2'>3</a>\u001b[0m jayanth\u001b[39m=\u001b[39m\u001b[39m20\u001b[39m\n\u001b[1;32m----> <a href='vscode-notebook-cell:/d%3A/Sravanth/Coding/practice/day%202%20-%2012%20arithematic%20logical%20assignment%20operators.ipynb#W1sZmlsZQ%3D%3D?line=3'>4</a>\u001b[0m \u001b[39mprint\u001b[39m(jayanth\u001b[39m.\u001b[39;49mreplace(jayanth,sravanth))\n",
      "\u001b[1;31mAttributeError\u001b[0m: 'int' object has no attribute 'replace'"
     ]
    }
   ],
   "source": [
    "#1. sravanth has 10 rupees note jayanth has 20 rupees note, give 20 rupees note to sravanth and give 10 rupeees note to jayanth\n",
    "sravanth=10\n",
    "jayanth=20\n",
    "print(jayanth.replace(jayanth,sravanth))\n"
   ]
  },
  {
   "cell_type": "code",
   "execution_count": null,
   "metadata": {},
   "outputs": [
    {
     "name": "stdout",
     "output_type": "stream",
     "text": [
      "14.291509999999999\n"
     ]
    }
   ],
   "source": [
    "#2. convert 23kilometres to miles\n",
    "kilometers=23\n",
    "conversion_ratio=0.62137\n",
    "miles=kilometers*conversion_ratio\n",
    "print(miles)\n"
   ]
  },
  {
   "cell_type": "code",
   "execution_count": null,
   "metadata": {},
   "outputs": [],
   "source": [
    "#3. simple interest = 391999.99, principal = 700000 find the total amount.\n",
    "simple_intrest=391999.99"
   ]
  },
  {
   "cell_type": "code",
   "execution_count": null,
   "metadata": {},
   "outputs": [
    {
     "name": "stdout",
     "output_type": "stream",
     "text": [
      "b is greater\n"
     ]
    }
   ],
   "source": [
    "#5. given a=10 b=20 check  a<b, a>b\n",
    "a=10\n",
    "b=20\n",
    "if a<b:\n",
    "    print(\"b is greater\")\n",
    "if a>b:\n",
    "    print(\"a is greater\")\n",
    "\n",
    "\n",
    "\n",
    "\n"
   ]
  },
  {
   "cell_type": "code",
   "execution_count": null,
   "metadata": {},
   "outputs": [
    {
     "name": "stdout",
     "output_type": "stream",
     "text": [
      "True\n",
      "False\n"
     ]
    }
   ],
   "source": [
    "a=10\n",
    "b=20\n",
    "print(a<b)\n",
    "print(a>b)"
   ]
  },
  {
   "cell_type": "code",
   "execution_count": null,
   "metadata": {},
   "outputs": [
    {
     "name": "stdout",
     "output_type": "stream",
     "text": [
      "a is equal to  b\n"
     ]
    }
   ],
   "source": [
    "#6. given a=100 b=100 check  a==b\n",
    "a=100\n",
    "b=100\n",
    "if a==b:\n",
    "    print(\"a is equal to  b\")\n",
    "else:\n",
    "    print(\"a is not eual to b\")\n",
    "   "
   ]
  },
  {
   "cell_type": "code",
   "execution_count": null,
   "metadata": {},
   "outputs": [
    {
     "name": "stdout",
     "output_type": "stream",
     "text": [
      "True\n"
     ]
    }
   ],
   "source": [
    "a=100\n",
    "b=100\n",
    "print(a==b)"
   ]
  },
  {
   "cell_type": "code",
   "execution_count": null,
   "metadata": {},
   "outputs": [
    {
     "name": "stdout",
     "output_type": "stream",
     "text": [
      "a is not greater than or equal to b\n"
     ]
    }
   ],
   "source": [
    "#7. given a=200 b=500 check  a>=b\n",
    "a=200\n",
    "b=500\n",
    "if a>=b:\n",
    "    print(\"a is greater than or equal to b\")\n",
    "else:\n",
    "    print(\"a is not greater than or equal to b\")"
   ]
  },
  {
   "cell_type": "code",
   "execution_count": null,
   "metadata": {},
   "outputs": [
    {
     "name": "stdout",
     "output_type": "stream",
     "text": [
      "False\n"
     ]
    }
   ],
   "source": [
    "a=200\n",
    "b=500\n",
    "print(a>=b)"
   ]
  },
  {
   "cell_type": "code",
   "execution_count": null,
   "metadata": {},
   "outputs": [
    {
     "name": "stdout",
     "output_type": "stream",
     "text": [
      "True\n"
     ]
    }
   ],
   "source": [
    "#8. a = true b= true implement logical operators \n",
    "a=True\n",
    "b=True\n",
    "print(a and b)"
   ]
  },
  {
   "cell_type": "code",
   "execution_count": null,
   "metadata": {},
   "outputs": [
    {
     "name": "stdout",
     "output_type": "stream",
     "text": [
      "True\n"
     ]
    }
   ],
   "source": [
    "#9. a = 10 b= 20 implement assignment operators\n",
    "a=10\n",
    "b=20\n",
    "print(a<b)"
   ]
  },
  {
   "cell_type": "code",
   "execution_count": 22,
   "metadata": {},
   "outputs": [
    {
     "name": "stdout",
     "output_type": "stream",
     "text": [
      "    October 1998\n",
      "Mo Tu We Th Fr Sa Su\n",
      "          1  2  3  4\n",
      " 5  6  7  8  9 10 11\n",
      "12 13 14 15 16 17 18\n",
      "19 20 21 22 23 24 25\n",
      "26 27 28 29 30 31\n",
      "\n"
     ]
    }
   ],
   "source": [
    "#10. display calendar for october 1998\n",
    "import calendar\n",
    "year = 1998 \n",
    "month=10 \n",
    "day=2\n",
    "print(calendar.month(ye\n",
    "                     ar, month))"
   ]
  },
  {
   "cell_type": "code",
   "execution_count": 26,
   "metadata": {},
   "outputs": [
    {
     "name": "stdout",
     "output_type": "stream",
     "text": [
      "a is negative\n"
     ]
    }
   ],
   "source": [
    "#11. a=-20 check if it is positive or negative\n",
    "a=-20\n",
    "if a>0:\n",
    "    print(\"a is positive\")\n",
    "else:\n",
    "    print(\"a is negative\")\n"
   ]
  },
  {
   "cell_type": "code",
   "execution_count": 27,
   "metadata": {},
   "outputs": [
    {
     "name": "stdout",
     "output_type": "stream",
     "text": [
      "391999.99999999994\n"
     ]
    }
   ],
   "source": [
    "#3. jak took 7 lakhs of loan for 11.2% interest rate and duration of 5 years find the simple interest. \n",
    "jak=700000\n",
    "intrest=11.2\n",
    "time=5\n",
    "simple_intrest=jak*intrest*time/100\n",
    "print(simple_intrest)"
   ]
  },
  {
   "cell_type": "code",
   "execution_count": 35,
   "metadata": {},
   "outputs": [
    {
     "name": "stdout",
     "output_type": "stream",
     "text": [
      "<class 'float'>\n",
      "float to integer 10\n",
      "10\n"
     ]
    }
   ],
   "source": [
    "#a= 10.4 convet a to integer\n",
    "a=10.4\n",
    "print(type(a))\n",
    "print(\"float to integer\",int(a))\n",
    "\n",
    "\n",
    "\n",
    "\n",
    "print(round(a))"
   ]
  }
 ],
 "metadata": {
  "kernelspec": {
   "display_name": "Python 3",
   "language": "python",
   "name": "python3"
  },
  "language_info": {
   "codemirror_mode": {
    "name": "ipython",
    "version": 3
   },
   "file_extension": ".py",
   "mimetype": "text/x-python",
   "name": "python",
   "nbconvert_exporter": "python",
   "pygments_lexer": "ipython3",
   "version": "3.9.8"
  },
  "orig_nbformat": 4
 },
 "nbformat": 4,
 "nbformat_minor": 2
}
