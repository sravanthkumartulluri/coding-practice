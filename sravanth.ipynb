{
 "cells": [
  {
   "cell_type": "code",
   "execution_count": 1,
   "metadata": {},
   "outputs": [
    {
     "name": "stdout",
     "output_type": "stream",
     "text": [
      "25.0\n"
     ]
    }
   ],
   "source": [
    "a=625\n",
    "square_root=a**0.5\n",
    "print(square_root)"
   ]
  },
  {
   "cell_type": "code",
   "execution_count": 2,
   "metadata": {},
   "outputs": [
    {
     "name": "stdout",
     "output_type": "stream",
     "text": [
      "21.0\n"
     ]
    }
   ],
   "source": [
    "#area of triangle \n",
    "height=7\n",
    "breath=6\n",
    "area=height*breath/2\n",
    "print(area)"
   ]
  },
  {
   "cell_type": "code",
   "execution_count": 5,
   "metadata": {},
   "outputs": [
    {
     "name": "stdout",
     "output_type": "stream",
     "text": [
      "10\n",
      "5\n"
     ]
    }
   ],
   "source": [
    "#SWAPING\n",
    "a=5\n",
    "b=10\n",
    "x=a\n",
    "a=b\n",
    "b=x\n",
    "print(a)\n",
    "print(b)"
   ]
  },
  {
   "cell_type": "code",
   "execution_count": 27,
   "metadata": {},
   "outputs": [
    {
     "name": "stdout",
     "output_type": "stream",
     "text": [
      "after swaping a=10\n",
      "after swaping a=5\n"
     ]
    }
   ],
   "source": [
    "#Swaping by without using temp variable\n",
    "a=5\n",
    "b=10\n",
    "a=a+b\n",
    "b=a-b\n",
    "a=a-b\n",
    "print(\"after swaping a=\"+format(a))\n",
    "print(\"after swaping a=\"+format(b))\n"
   ]
  },
  {
   "cell_type": "code",
   "execution_count": 28,
   "metadata": {},
   "outputs": [
    {
     "name": "stdout",
     "output_type": "stream",
     "text": [
      "6.213699999999999\n"
     ]
    }
   ],
   "source": [
    "kilometers=10\n",
    "mile=0.62137\n",
    "miles=kilometers*mile\n",
    "print(miles)"
   ]
  },
  {
   "cell_type": "code",
   "execution_count": 31,
   "metadata": {},
   "outputs": [
    {
     "name": "stdout",
     "output_type": "stream",
     "text": [
      "a is positive\n"
     ]
    }
   ],
   "source": [
    "a=5\n",
    "if a<0:\n",
    "    print(\"a is negaive\")\n",
    "else:\n",
    " print(\"a is positive\")"
   ]
  },
  {
   "cell_type": "code",
   "execution_count": 34,
   "metadata": {},
   "outputs": [
    {
     "name": "stdout",
     "output_type": "stream",
     "text": [
      "a is odd\n"
     ]
    }
   ],
   "source": [
    "# checking even or odd\n",
    "a=5\n",
    "x=a%2\n",
    "if x==0 :\n",
    " print(\"a is even\")\n",
    "else:\n",
    " print(\"a is odd\")"
   ]
  },
  {
   "cell_type": "code",
   "execution_count": 37,
   "metadata": {},
   "outputs": [
    {
     "name": "stdout",
     "output_type": "stream",
     "text": [
      "a is not leap year\n"
     ]
    }
   ],
   "source": [
    "a=2023\n",
    "if a%100==0:\n",
    "    print(\"a is leap year\")\n",
    "else:\n",
    "    print(\"a is not leap year\")"
   ]
  },
  {
   "cell_type": "code",
   "execution_count": 44,
   "metadata": {},
   "outputs": [],
   "source": [
    "year=2023\n",
    "if (year % 400 == 0) and (year % 100 == 0):\n",
    "    print(\"{0} is a leap year\".format(year)) \n"
   ]
  },
  {
   "cell_type": "code",
   "execution_count": 45,
   "metadata": {},
   "outputs": [
    {
     "name": "stdout",
     "output_type": "stream",
     "text": [
      "largest number is 7\n"
     ]
    }
   ],
   "source": [
    "a=5\n",
    "b=6\n",
    "c=7\n",
    "if a>=b and b>=c:\n",
    "    largest=a\n",
    "elif b>=c and c>=a:\n",
    "    largest=b\n",
    "else:\n",
    "    largest=c\n",
    "    print(\"largest number is\",largest)\n"
   ]
  },
  {
   "cell_type": "code",
   "execution_count": 48,
   "metadata": {},
   "outputs": [
    {
     "name": "stdout",
     "output_type": "stream",
     "text": [
      "250.0 is quotient\n",
      "0 is reminder\n"
     ]
    }
   ],
   "source": [
    "a=500\n",
    "b=2\n",
    "print(a/b,\"is quotient\")\n",
    "print(a%b,\"is reminder\")"
   ]
  },
  {
   "cell_type": "code",
   "execution_count": 49,
   "metadata": {},
   "outputs": [
    {
     "name": "stdout",
     "output_type": "stream",
     "text": [
      "true\n"
     ]
    }
   ],
   "source": [
    "a=500\n",
    "b=2\n",
    "x=a/b\n",
    "if x==250:\n",
    "    print(\"true\")\n",
    "else:\n",
    "    print(\"false\")"
   ]
  },
  {
   "cell_type": "code",
   "execution_count": 1,
   "metadata": {},
   "outputs": [
    {
     "name": "stdout",
     "output_type": "stream",
     "text": [
      "Prime numbers between 900 and 1000 are:\n",
      "907\n",
      "911\n",
      "919\n",
      "929\n",
      "937\n",
      "941\n",
      "947\n",
      "953\n",
      "967\n",
      "971\n",
      "977\n",
      "983\n",
      "991\n",
      "997\n"
     ]
    }
   ],
   "source": [
    "lower = 900\n",
    "upper = 1000\n",
    "\n",
    "print(\"Prime numbers between\", lower, \"and\", upper, \"are:\")\n",
    "\n",
    "for num in range(lower, upper + 1):\n",
    "   # all prime numbers are greater than 1\n",
    "   if num > 1:\n",
    "       for i in range(2, num):\n",
    "           if (num % i) == 0:\n",
    "               break\n",
    "       else:\n",
    "           print(num)"
   ]
  },
  {
   "cell_type": "code",
   "execution_count": 13,
   "metadata": {},
   "outputs": [
    {
     "name": "stdout",
     "output_type": "stream",
     "text": [
      "factorial of 9 is 362880\n"
     ]
    }
   ],
   "source": [
    "num=9\n",
    "factorial=1\n",
    "if num < 0:\n",
    "  print(\"facrotial not exists\")\n",
    "elif num == 0:\n",
    " print(\"factorial of 0 is 1\")\n",
    "else:\n",
    "  for i in range (1,num+1):\n",
    "    factorial=factorial*i\n",
    "  print(\"factorial of\",num,\"is\",factorial)\n"
   ]
  },
  {
   "cell_type": "code",
   "execution_count": 14,
   "metadata": {},
   "outputs": [
    {
     "name": "stdout",
     "output_type": "stream",
     "text": [
      "15 x 1 = 15\n",
      "15 x 2 = 30\n",
      "15 x 3 = 45\n",
      "15 x 4 = 60\n",
      "15 x 5 = 75\n",
      "15 x 6 = 90\n",
      "15 x 7 = 105\n",
      "15 x 8 = 120\n",
      "15 x 9 = 135\n",
      "15 x 10 = 150\n"
     ]
    }
   ],
   "source": [
    "num=15\n",
    "for i in range(1,11):\n",
    "    print(num,\"x\",i,\"=\",num*i)\n"
   ]
  },
  {
   "cell_type": "code",
   "execution_count": 17,
   "metadata": {},
   "outputs": [
    {
     "name": "stdout",
     "output_type": "stream",
     "text": [
      "The total terms are: 20\n",
      "2 raised to power 0 is 1\n",
      "2 raised to power 1 is 2\n",
      "2 raised to power 2 is 4\n",
      "2 raised to power 3 is 8\n",
      "2 raised to power 4 is 16\n",
      "2 raised to power 5 is 32\n",
      "2 raised to power 6 is 64\n",
      "2 raised to power 7 is 128\n",
      "2 raised to power 8 is 256\n",
      "2 raised to power 9 is 512\n",
      "2 raised to power 10 is 1024\n",
      "2 raised to power 11 is 2048\n",
      "2 raised to power 12 is 4096\n",
      "2 raised to power 13 is 8192\n",
      "2 raised to power 14 is 16384\n",
      "2 raised to power 15 is 32768\n",
      "2 raised to power 16 is 65536\n",
      "2 raised to power 17 is 131072\n",
      "2 raised to power 18 is 262144\n",
      "2 raised to power 19 is 524288\n"
     ]
    }
   ],
   "source": [
    "terms=20\n",
    "result=list(map(lambda x:2 **x,range(terms)))\n",
    "print(\"The total terms are:\",terms)\n",
    "for i in range(terms):\n",
    "   print(\"2 raised to power\",i,\"is\",result[i])"
   ]
  },
  {
   "cell_type": "code",
   "execution_count": 18,
   "metadata": {},
   "outputs": [
    {
     "name": "stdout",
     "output_type": "stream",
     "text": [
      "The decimal value of 789 is:\n",
      "0b1100010101 in binary.\n",
      "0o1425 in octal.\n",
      "0x315 in hexadecimal.\n"
     ]
    }
   ],
   "source": [
    "dec = 789\n",
    "\n",
    "print(\"The decimal value of\", dec, \"is:\")\n",
    "print(bin(dec), \"in binary.\")\n",
    "print(oct(dec), \"in octal.\")\n",
    "print(hex(dec), \"in hexadecimal.\")"
   ]
  },
  {
   "cell_type": "code",
   "execution_count": 24,
   "metadata": {},
   "outputs": [
    {
     "name": "stdout",
     "output_type": "stream",
     "text": [
      "   December 2023\n",
      "Mo Tu We Th Fr Sa Su\n",
      "             1  2  3\n",
      " 4  5  6  7  8  9 10\n",
      "11 12 13 14 15 16 17\n",
      "18 19 20 21 22 23 24\n",
      "25 26 27 28 29 30 31\n",
      "\n"
     ]
    }
   ],
   "source": [
    "import calendar\n",
    "date=2\n",
    "mm=12\n",
    "year=2023\n",
    "print(calendar.month(year,mm))"
   ]
  }
 ],
 "metadata": {
  "kernelspec": {
   "display_name": "Python 3",
   "language": "python",
   "name": "python3"
  },
  "language_info": {
   "codemirror_mode": {
    "name": "ipython",
    "version": 3
   },
   "file_extension": ".py",
   "mimetype": "text/x-python",
   "name": "python",
   "nbconvert_exporter": "python",
   "pygments_lexer": "ipython3",
   "version": "3.9.8"
  },
  "orig_nbformat": 4
 },
 "nbformat": 4,
 "nbformat_minor": 2
}
